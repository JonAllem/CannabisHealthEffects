{
 "cells": [
  {
   "cell_type": "markdown",
   "metadata": {},
   "source": [
    " The goal of this study was to cross-reference a list of health effects from the Unified Medical Language System® (UMLS) Consumer Health Vocabulary dictionary with a corpus of cannabis-related tweets to identify and describe the common perceived health effects from cannabis use"
   ]
  },
  {
   "cell_type": "code",
   "execution_count": 1,
   "metadata": {
    "id": "2uPIb-arGp0b"
   },
   "outputs": [],
   "source": [
    "import pandas as pd\n",
    "import numpy as np\n",
    "import tqdm"
   ]
  },
  {
   "cell_type": "markdown",
   "metadata": {
    "id": "mPdrFAsYGscW"
   },
   "source": [
    "Reading list of terms for various categories"
   ]
  },
  {
   "cell_type": "code",
   "execution_count": 2,
   "metadata": {
    "id": "3PbAYGwZGp0_"
   },
   "outputs": [],
   "source": [
    "terms_df = pd.read_excel(\"Filtered_List_AM.xlsx\")"
   ]
  },
  {
   "cell_type": "code",
   "execution_count": 3,
   "metadata": {
    "id": "fkU-UXxaGp1g"
   },
   "outputs": [],
   "source": [
    "categories = list(terms_df.columns[4:-1])"
   ]
  },
  {
   "cell_type": "code",
   "execution_count": 4,
   "metadata": {
    "colab": {
     "base_uri": "https://localhost:8080/",
     "height": 326
    },
    "id": "_yUoLo1ZGp1z",
    "outputId": "aed406f4-ece4-4736-b9d7-2fa1721fe42d"
   },
   "outputs": [
    {
     "data": {
      "text/plain": [
       "['Cancer',\n",
       " 'Cardiovascular',\n",
       " 'Respiratory',\n",
       " 'Cognitive',\n",
       " 'Gastrointestinal',\n",
       " 'Neurological',\n",
       " 'Weight',\n",
       " 'PregnancyInUtero',\n",
       " 'MentalHealth',\n",
       " 'Stress',\n",
       " 'Pain',\n",
       " 'Injury',\n",
       " 'Immune System',\n",
       " 'Dermatological',\n",
       " 'Death',\n",
       " 'Poisoning',\n",
       " 'Other']"
      ]
     },
     "execution_count": 4,
     "metadata": {},
     "output_type": "execute_result"
    }
   ],
   "source": [
    "categories"
   ]
  },
  {
   "cell_type": "code",
   "execution_count": 5,
   "metadata": {
    "id": "fWDERScmGp2W"
   },
   "outputs": [],
   "source": [
    "categories_dict = dict(((k,[]) for k in categories))"
   ]
  },
  {
   "cell_type": "code",
   "execution_count": 6,
   "metadata": {
    "colab": {
     "base_uri": "https://localhost:8080/",
     "height": 261
    },
    "id": "NsJaQbHnGp2_",
    "outputId": "91ec1aa0-8468-4df3-8f91-d60ae5786e3f"
   },
   "outputs": [
    {
     "data": {
      "text/html": [
       "<div>\n",
       "<style scoped>\n",
       "    .dataframe tbody tr th:only-of-type {\n",
       "        vertical-align: middle;\n",
       "    }\n",
       "\n",
       "    .dataframe tbody tr th {\n",
       "        vertical-align: top;\n",
       "    }\n",
       "\n",
       "    .dataframe thead th {\n",
       "        text-align: right;\n",
       "    }\n",
       "</style>\n",
       "<table border=\"1\" class=\"dataframe\">\n",
       "  <thead>\n",
       "    <tr style=\"text-align: right;\">\n",
       "      <th></th>\n",
       "      <th>MedicalTerms</th>\n",
       "      <th>medical_terms_lower</th>\n",
       "      <th>ColloquialsTerms</th>\n",
       "      <th>colloquial_terms_lower</th>\n",
       "      <th>Cancer</th>\n",
       "      <th>Cardiovascular</th>\n",
       "      <th>Respiratory</th>\n",
       "      <th>Cognitive</th>\n",
       "      <th>Gastrointestinal</th>\n",
       "      <th>Neurological</th>\n",
       "      <th>...</th>\n",
       "      <th>MentalHealth</th>\n",
       "      <th>Stress</th>\n",
       "      <th>Pain</th>\n",
       "      <th>Injury</th>\n",
       "      <th>Immune System</th>\n",
       "      <th>Dermatological</th>\n",
       "      <th>Death</th>\n",
       "      <th>Poisoning</th>\n",
       "      <th>Other</th>\n",
       "      <th>SumCheck</th>\n",
       "    </tr>\n",
       "  </thead>\n",
       "  <tbody>\n",
       "    <tr>\n",
       "      <th>0</th>\n",
       "      <td>NaN</td>\n",
       "      <td>NaN</td>\n",
       "      <td>twitch</td>\n",
       "      <td>twitch</td>\n",
       "      <td>0</td>\n",
       "      <td>0</td>\n",
       "      <td>0</td>\n",
       "      <td>0</td>\n",
       "      <td>0</td>\n",
       "      <td>1</td>\n",
       "      <td>...</td>\n",
       "      <td>0</td>\n",
       "      <td>0</td>\n",
       "      <td>0</td>\n",
       "      <td>0</td>\n",
       "      <td>0</td>\n",
       "      <td>0</td>\n",
       "      <td>0</td>\n",
       "      <td>0</td>\n",
       "      <td>0</td>\n",
       "      <td>1.0</td>\n",
       "    </tr>\n",
       "    <tr>\n",
       "      <th>1</th>\n",
       "      <td>abortion</td>\n",
       "      <td>abortion</td>\n",
       "      <td>NaN</td>\n",
       "      <td>NaN</td>\n",
       "      <td>0</td>\n",
       "      <td>0</td>\n",
       "      <td>0</td>\n",
       "      <td>0</td>\n",
       "      <td>0</td>\n",
       "      <td>0</td>\n",
       "      <td>...</td>\n",
       "      <td>0</td>\n",
       "      <td>0</td>\n",
       "      <td>0</td>\n",
       "      <td>0</td>\n",
       "      <td>0</td>\n",
       "      <td>0</td>\n",
       "      <td>0</td>\n",
       "      <td>0</td>\n",
       "      <td>0</td>\n",
       "      <td>1.0</td>\n",
       "    </tr>\n",
       "    <tr>\n",
       "      <th>2</th>\n",
       "      <td>abreaction</td>\n",
       "      <td>abreaction</td>\n",
       "      <td>NaN</td>\n",
       "      <td>NaN</td>\n",
       "      <td>0</td>\n",
       "      <td>0</td>\n",
       "      <td>0</td>\n",
       "      <td>0</td>\n",
       "      <td>0</td>\n",
       "      <td>1</td>\n",
       "      <td>...</td>\n",
       "      <td>0</td>\n",
       "      <td>0</td>\n",
       "      <td>0</td>\n",
       "      <td>0</td>\n",
       "      <td>0</td>\n",
       "      <td>0</td>\n",
       "      <td>0</td>\n",
       "      <td>0</td>\n",
       "      <td>0</td>\n",
       "      <td>1.0</td>\n",
       "    </tr>\n",
       "    <tr>\n",
       "      <th>3</th>\n",
       "      <td>abscence oxygen</td>\n",
       "      <td>abscence oxygen</td>\n",
       "      <td>suffocate</td>\n",
       "      <td>suffocate</td>\n",
       "      <td>0</td>\n",
       "      <td>0</td>\n",
       "      <td>1</td>\n",
       "      <td>0</td>\n",
       "      <td>0</td>\n",
       "      <td>0</td>\n",
       "      <td>...</td>\n",
       "      <td>0</td>\n",
       "      <td>0</td>\n",
       "      <td>0</td>\n",
       "      <td>0</td>\n",
       "      <td>0</td>\n",
       "      <td>0</td>\n",
       "      <td>0</td>\n",
       "      <td>0</td>\n",
       "      <td>0</td>\n",
       "      <td>1.0</td>\n",
       "    </tr>\n",
       "    <tr>\n",
       "      <th>4</th>\n",
       "      <td>abscess</td>\n",
       "      <td>abscess</td>\n",
       "      <td>pimple</td>\n",
       "      <td>pimple</td>\n",
       "      <td>0</td>\n",
       "      <td>0</td>\n",
       "      <td>0</td>\n",
       "      <td>0</td>\n",
       "      <td>0</td>\n",
       "      <td>0</td>\n",
       "      <td>...</td>\n",
       "      <td>0</td>\n",
       "      <td>0</td>\n",
       "      <td>0</td>\n",
       "      <td>0</td>\n",
       "      <td>0</td>\n",
       "      <td>1</td>\n",
       "      <td>0</td>\n",
       "      <td>0</td>\n",
       "      <td>0</td>\n",
       "      <td>1.0</td>\n",
       "    </tr>\n",
       "  </tbody>\n",
       "</table>\n",
       "<p>5 rows × 22 columns</p>\n",
       "</div>"
      ],
      "text/plain": [
       "      MedicalTerms medical_terms_lower ColloquialsTerms  \\\n",
       "0              NaN                 NaN           twitch   \n",
       "1         abortion            abortion              NaN   \n",
       "2       abreaction          abreaction              NaN   \n",
       "3  abscence oxygen     abscence oxygen        suffocate   \n",
       "4         abscess             abscess            pimple   \n",
       "\n",
       "  colloquial_terms_lower  Cancer  Cardiovascular  Respiratory  Cognitive  \\\n",
       "0                 twitch       0               0            0          0   \n",
       "1                    NaN       0               0            0          0   \n",
       "2                    NaN       0               0            0          0   \n",
       "3              suffocate       0               0            1          0   \n",
       "4                 pimple       0               0            0          0   \n",
       "\n",
       "   Gastrointestinal  Neurological  ...  MentalHealth  Stress  Pain  Injury  \\\n",
       "0                 0             1  ...             0       0     0       0   \n",
       "1                 0             0  ...             0       0     0       0   \n",
       "2                 0             1  ...             0       0     0       0   \n",
       "3                 0             0  ...             0       0     0       0   \n",
       "4                 0             0  ...             0       0     0       0   \n",
       "\n",
       "   Immune System  Dermatological  Death  Poisoning  Other  SumCheck  \n",
       "0              0               0      0          0      0       1.0  \n",
       "1              0               0      0          0      0       1.0  \n",
       "2              0               0      0          0      0       1.0  \n",
       "3              0               0      0          0      0       1.0  \n",
       "4              0               1      0          0      0       1.0  \n",
       "\n",
       "[5 rows x 22 columns]"
      ]
     },
     "execution_count": 6,
     "metadata": {},
     "output_type": "execute_result"
    }
   ],
   "source": [
    "terms_df.head()"
   ]
  },
  {
   "cell_type": "code",
   "execution_count": 7,
   "metadata": {
    "id": "WpcjspDwGp33"
   },
   "outputs": [],
   "source": [
    "# getting all the terms in each category\n",
    "for i,row in terms_df.iterrows():\n",
    "    terms_to_search = []\n",
    "    if(isinstance(row['medical_terms_lower'], str)):\n",
    "        terms_to_search.append(row['medical_terms_lower'])\n",
    "    if(isinstance(row['colloquial_terms_lower'], str)):\n",
    "        terms_to_search.append(row['colloquial_terms_lower'])\n",
    "        \n",
    "    for t in terms_to_search:\n",
    "        for c in categories_dict.keys():\n",
    "            if (row[c] == 1):\n",
    "                categories_dict[c].append(t)\n",
    "                continue\n",
    "                "
   ]
  },
  {
   "cell_type": "markdown",
   "metadata": {},
   "source": [
    "Now we have all the terms in each category for example:- terms in the \"Stress\" category"
   ]
  },
  {
   "cell_type": "code",
   "execution_count": 12,
   "metadata": {},
   "outputs": [
    {
     "data": {
      "text/plain": [
       "['hypercortisolemia',\n",
       " 'cortisol',\n",
       " 'hypercortisolic',\n",
       " 'hypercortisolism',\n",
       " \"cushing's syndrome\",\n",
       " 'hyperventilate',\n",
       " 'stress',\n",
       " ' tension ',\n",
       " 'perspiration',\n",
       " 'sweating',\n",
       " 'tremor',\n",
       " 'shaking',\n",
       " 'testiness',\n",
       " 'irritable']"
      ]
     },
     "execution_count": 12,
     "metadata": {},
     "output_type": "execute_result"
    }
   ],
   "source": [
    "categories_dict['Stress']"
   ]
  },
  {
   "cell_type": "markdown",
   "metadata": {
    "id": "4W0Nhmd_HtO7"
   },
   "source": [
    "Tweets containing cannabis terms dated from 1st Jan 2020 to 31st Aug 2020 were collected. There were 16703751 tweets containing cannabis terms. These tweets were then filtered for all the tweets having medical and colloquial terms resulting in 609231 tweets.\n"
   ]
  },
  {
   "cell_type": "code",
   "execution_count": null,
   "metadata": {
    "id": "BKG0PACj35_W"
   },
   "outputs": [],
   "source": [
    "CANNABIS_KEYWORDS = [\n",
    "    'blunt', 'bong', 'budder', 'cannabis',\n",
    "    'cbd', 'ganja', 'hash', 'hemp',\n",
    "    'indica', 'kush', 'marijuana', 'marihuana',\n",
    "    'reefer', 'sativa', 'thc', 'weed'\n",
    "]"
   ]
  },
  {
   "cell_type": "code",
   "execution_count": null,
   "metadata": {
    "id": "Xvx6Z5tQGp4Z"
   },
   "outputs": [],
   "source": [
    "df = pd.read_csv(\"data.csv\", error_bad_lines=False, warn_bad_lines=False)"
   ]
  },
  {
   "cell_type": "code",
   "execution_count": null,
   "metadata": {
    "id": "niH0c-ZIGp41"
   },
   "outputs": [],
   "source": [
    "df = df.dropna()\n",
    "df = df[df['id'].map(len) == 19]\n",
    "df = df[df['createdAt'].map(len) == 19] \n",
    "df = df[df['userId'].map(str.isnumeric) == True]\n",
    "df = df[df['createdAt'].str.contains(\"-\")]"
   ]
  },
  {
   "cell_type": "code",
   "execution_count": 45,
   "metadata": {
    "colab": {
     "base_uri": "https://localhost:8080/",
     "height": 35
    },
    "id": "pUoMl7cDGp5J",
    "outputId": "a52116c1-53a8-4c0e-e679-2f238a138870"
   },
   "outputs": [
    {
     "name": "stdout",
     "output_type": "stream",
     "text": [
      "total number of tweets containing cannabis terms: 16703751\n"
     ]
    }
   ],
   "source": [
    "# All the tweets \n",
    "print(\"total number of tweets containing cannabis terms: \" + str(len(df)))"
   ]
  },
  {
   "cell_type": "code",
   "execution_count": 31,
   "metadata": {
    "id": "wTEJatRUp9Zk"
   },
   "outputs": [],
   "source": [
    "def contains_word(s, w):\n",
    "    return f' {w} ' in f' {s} '"
   ]
  },
  {
   "cell_type": "code",
   "execution_count": 9,
   "metadata": {
    "id": "9CDDIvaEJvVq"
   },
   "outputs": [],
   "source": [
    "ids = []\n",
    "for i, row in df.iterrows():\n",
    "    tweet = row['text']\n",
    "    for c in categories_dict.keys():\n",
    "        for w in categories_dict[c]:\n",
    "            if contains_word(tweet.lower(), w):\n",
    "                ids.append(i)"
   ]
  },
  {
   "cell_type": "code",
   "execution_count": 13,
   "metadata": {
    "id": "RJ5ccf9CcE-i"
   },
   "outputs": [],
   "source": [
    "ids = set(ids)"
   ]
  },
  {
   "cell_type": "code",
   "execution_count": null,
   "metadata": {
    "id": "dcvLuE8AcJR5"
   },
   "outputs": [],
   "source": [
    "df = df.loc[ids]\n",
    "df.dropna()"
   ]
  },
  {
   "cell_type": "code",
   "execution_count": null,
   "metadata": {
    "id": "NtzWa8bWdR6O"
   },
   "outputs": [],
   "source": [
    "df.to_csv(\"terms_final.csv\", index = False)"
   ]
  },
  {
   "cell_type": "code",
   "execution_count": 10,
   "metadata": {
    "id": "bO5CGb3IQ5rn"
   },
   "outputs": [],
   "source": [
    "df = pd.read_csv('terms_final.csv')"
   ]
  },
  {
   "cell_type": "code",
   "execution_count": 44,
   "metadata": {
    "colab": {
     "base_uri": "https://localhost:8080/",
     "height": 35
    },
    "id": "DJIxCgNsdyeF",
    "outputId": "9b2ef703-7a5a-43fc-d5fc-db6e61e7e00d"
   },
   "outputs": [
    {
     "name": "stdout",
     "output_type": "stream",
     "text": [
      "Total tweets having medical and colloquial terms: 609227\n"
     ]
    }
   ],
   "source": [
    "print(\"Total tweets having medical and colloquial terms: \" + str(len(df)))"
   ]
  },
  {
   "cell_type": "markdown",
   "metadata": {
    "id": "ahzmRAM3LvJ9"
   },
   "source": [
    "For removing bot accounts, we used BotometerV4 API. There were a total of 388274 unique users. Using botometer we were able to fetch bot scores for 261134 users. The other 127140 user accounts were deleted and hence were not fetched. Out of 261134 fetched users, 15245 users were marked as bots, and 245889 users were marked as non-bots. We marked a user as a bot if the overall English bot score was greater than 4. There were a total of 53487 tweets by bots and 353353 tweets by real users."
   ]
  },
  {
   "cell_type": "code",
   "execution_count": 13,
   "metadata": {
    "id": "JTCr_SUieE6s"
   },
   "outputs": [],
   "source": [
    "ids = list(df['userId'])"
   ]
  },
  {
   "cell_type": "code",
   "execution_count": 78,
   "metadata": {
    "colab": {
     "base_uri": "https://localhost:8080/",
     "height": 35
    },
    "id": "ujwRg5kXeMng",
    "outputId": "f517a524-d40d-4561-d3a2-f825a3579163"
   },
   "outputs": [
    {
     "name": "stdout",
     "output_type": "stream",
     "text": [
      "total unique users:388274\n"
     ]
    }
   ],
   "source": [
    "print('total unique users:' + str(len(set(ids))))"
   ]
  },
  {
   "cell_type": "code",
   "execution_count": 15,
   "metadata": {
    "id": "5NjtJ9wxk4OF"
   },
   "outputs": [],
   "source": [
    "import pickle\n",
    "#Reading bot scores from pickled file\n",
    "with open('combined_users.pickle', 'rb') as file:\n",
    "    user_scores = pickle.load(file)"
   ]
  },
  {
   "cell_type": "code",
   "execution_count": 16,
   "metadata": {
    "id": "-lQ_3b900ABg"
   },
   "outputs": [],
   "source": [
    "unique_users = list(set(df['userId']))\n",
    "unique_users = list(map(int,unique_users))"
   ]
  },
  {
   "cell_type": "code",
   "execution_count": 17,
   "metadata": {
    "colab": {
     "base_uri": "https://localhost:8080/",
     "height": 35
    },
    "id": "fsZsM5eRk6J_",
    "outputId": "524f4d23-dd93-4e16-9d07-df82883b33d7"
   },
   "outputs": [
    {
     "name": "stderr",
     "output_type": "stream",
     "text": [
      "100%|██████████| 388274/388274 [00:00<00:00, 1373306.13it/s]\n"
     ]
    }
   ],
   "source": [
    "existing_users = []\n",
    "missed_users = []\n",
    "count = 0\n",
    "for user in tqdm.tqdm(unique_users):\n",
    "    if user_scores[user] != None:\n",
    "        existing_users.append(user)\n",
    "    else:\n",
    "        missed_users.append(user)\n",
    "        count += 1"
   ]
  },
  {
   "cell_type": "code",
   "execution_count": 46,
   "metadata": {
    "colab": {
     "base_uri": "https://localhost:8080/",
     "height": 53
    },
    "id": "XvZ7JTeSVThQ",
    "outputId": "d4951001-de64-4210-8a1d-3de191145c72"
   },
   "outputs": [
    {
     "name": "stdout",
     "output_type": "stream",
     "text": [
      "Number of existing users: 261134\n",
      "Number of deleted users: 127140\n"
     ]
    }
   ],
   "source": [
    "print(\"Number of existing users: \" + str(len(existing_users)))\n",
    "print(\"Number of deleted users: \" + str(len(missed_users)))"
   ]
  },
  {
   "cell_type": "code",
   "execution_count": 22,
   "metadata": {
    "colab": {
     "base_uri": "https://localhost:8080/",
     "height": 35
    },
    "id": "B18XfXVcmY7y",
    "outputId": "0408559d-d169-4f97-9aa4-5f786110b6a4"
   },
   "outputs": [
    {
     "name": "stderr",
     "output_type": "stream",
     "text": [
      "609227it [00:02, 233384.93it/s]\n"
     ]
    }
   ],
   "source": [
    "bot_df = []\n",
    "real_df = []\n",
    "bot_count = 0\n",
    "ct = 0\n",
    "for row in tqdm.tqdm(df.itertuples()):\n",
    "    user = row.userId\n",
    "    if user_scores[user] == None:\n",
    "        ct += 1\n",
    "        continue\n",
    "    elif user_scores[user]['display_scores']['english']['overall'] >= 4:\n",
    "        bot_df += [row]\n",
    "    else:\n",
    "        real_df += [row]"
   ]
  },
  {
   "cell_type": "code",
   "execution_count": 23,
   "metadata": {
    "id": "kVQSLk9qWQ-1"
   },
   "outputs": [],
   "source": [
    "real_count, bot_count = 0, 0\n",
    "ct = 0\n",
    "for user in existing_users:\n",
    "    if user_scores[user] == None:\n",
    "        ct += 1\n",
    "        continue\n",
    "    elif user_scores[user]['display_scores']['english']['overall'] >= 4:\n",
    "        bot_count+=1\n",
    "    else:\n",
    "        real_count += 1"
   ]
  },
  {
   "cell_type": "code",
   "execution_count": 25,
   "metadata": {
    "colab": {
     "base_uri": "https://localhost:8080/",
     "height": 53
    },
    "id": "EratBZQUmiQ8",
    "outputId": "005478c9-b04f-42a5-cc53-cb7bd364a04e"
   },
   "outputs": [
    {
     "name": "stdout",
     "output_type": "stream",
     "text": [
      "Number of bot accounts: 15245\n",
      "Number of real accounts: 245889\n"
     ]
    }
   ],
   "source": [
    "print(\"Number of bot accounts: \" + str(bot_count))\n",
    "print(\"Number of real accounts: \" + str(real_count))"
   ]
  },
  {
   "cell_type": "code",
   "execution_count": 27,
   "metadata": {
    "colab": {
     "base_uri": "https://localhost:8080/",
     "height": 53
    },
    "id": "CB5S6FQ27eSY",
    "outputId": "98b1a7ed-f941-4bc4-f75c-c53c64fe3294"
   },
   "outputs": [
    {
     "name": "stdout",
     "output_type": "stream",
     "text": [
      "Number of bot accounts: 53487\n",
      "Number of real accounts: 353353\n"
     ]
    }
   ],
   "source": [
    "print(\"Number of bot tweets: \" + str(len(bot_df)))\n",
    "print(\"Number of real tweets: \" + str(len(real_df)))"
   ]
  },
  {
   "cell_type": "code",
   "execution_count": 29,
   "metadata": {
    "id": "fc3xHJLOmwsb"
   },
   "outputs": [],
   "source": [
    "real_df = pd.DataFrame(real_df)\n",
    "bot_df = pd.DataFrame(bot_df)"
   ]
  },
  {
   "cell_type": "markdown",
   "metadata": {},
   "source": [
    "Now we use the terms from each category to classify the tweets. We classify a tweet as belonging to a category if the tweet has at least one term from that category. A tweet can belong to multiple categories for example: \"I am sweating and I am having a major headache\" would belong to Stress and Pain categories as it has the word \"sweating\" and \"headache\" which belong to Stress and Pain categories respectively."
   ]
  },
  {
   "cell_type": "code",
   "execution_count": null,
   "metadata": {},
   "outputs": [],
   "source": [
    "# function to calculate tweets in each category\n",
    "from collections import defaultdict\n",
    "def calc_categories_count(df):\n",
    "    count_dict = defaultdict(lambda:0)\n",
    "    text = df['text']\n",
    "    for i in tqdm.tqdm(range(len(text))):\n",
    "        t = text[i]\n",
    "        for c in categories_dict.keys():\n",
    "            for w in categories_dict[c]:\n",
    "                if contains_word(t.lower(),w):\n",
    "                    count_dict[c]+=1\n",
    "                    break\n",
    "  #creating table\n",
    "  table = []\n",
    "    for k,v in count_dict.items():\n",
    "        table.append([k, v, v/len(text)*100])\n",
    "\n",
    "    table_df = pd.DataFrame(table, columns=['Categories', 'Tweet Count', 'Percentage'])\n",
    "    table_df = table_df.sort_values(by='Categories')\n",
    "    table_df.reset_index(drop=True, inplace=True)\n",
    "    return table_df"
   ]
  },
  {
   "cell_type": "code",
   "execution_count": 75,
   "metadata": {
    "colab": {
     "base_uri": "https://localhost:8080/",
     "height": 35
    },
    "id": "OSl6pzivnjyq",
    "outputId": "40b7379a-3eba-4783-9fac-328f4066fdde"
   },
   "outputs": [
    {
     "name": "stderr",
     "output_type": "stream",
     "text": [
      "100%|██████████| 353353/353353 [02:49<00:00, 2087.97it/s]\n"
     ]
    }
   ],
   "source": [
    "non_bot_result = calc_categories_count(real_df)"
   ]
  },
  {
   "cell_type": "code",
   "execution_count": 76,
   "metadata": {
    "colab": {
     "base_uri": "https://localhost:8080/",
     "height": 582
    },
    "id": "k9bHatzXP93X",
    "outputId": "c9f3ea05-2f62-4dcd-c7dc-b759deac6c33"
   },
   "outputs": [
    {
     "data": {
      "text/html": [
       "<div>\n",
       "<style scoped>\n",
       "    .dataframe tbody tr th:only-of-type {\n",
       "        vertical-align: middle;\n",
       "    }\n",
       "\n",
       "    .dataframe tbody tr th {\n",
       "        vertical-align: top;\n",
       "    }\n",
       "\n",
       "    .dataframe thead th {\n",
       "        text-align: right;\n",
       "    }\n",
       "</style>\n",
       "<table border=\"1\" class=\"dataframe\">\n",
       "  <thead>\n",
       "    <tr style=\"text-align: right;\">\n",
       "      <th></th>\n",
       "      <th>Categories</th>\n",
       "      <th>Tweet Count</th>\n",
       "      <th>Percentage</th>\n",
       "    </tr>\n",
       "  </thead>\n",
       "  <tbody>\n",
       "    <tr>\n",
       "      <th>0</th>\n",
       "      <td>Cancer</td>\n",
       "      <td>13834</td>\n",
       "      <td>3.915065</td>\n",
       "    </tr>\n",
       "    <tr>\n",
       "      <th>1</th>\n",
       "      <td>Cardiovascular</td>\n",
       "      <td>1810</td>\n",
       "      <td>0.512236</td>\n",
       "    </tr>\n",
       "    <tr>\n",
       "      <th>2</th>\n",
       "      <td>Cognitive</td>\n",
       "      <td>8807</td>\n",
       "      <td>2.492408</td>\n",
       "    </tr>\n",
       "    <tr>\n",
       "      <th>3</th>\n",
       "      <td>Death</td>\n",
       "      <td>31590</td>\n",
       "      <td>8.940068</td>\n",
       "    </tr>\n",
       "    <tr>\n",
       "      <th>4</th>\n",
       "      <td>Dermatological</td>\n",
       "      <td>1557</td>\n",
       "      <td>0.440636</td>\n",
       "    </tr>\n",
       "    <tr>\n",
       "      <th>5</th>\n",
       "      <td>Gastrointestinal</td>\n",
       "      <td>10434</td>\n",
       "      <td>2.952855</td>\n",
       "    </tr>\n",
       "    <tr>\n",
       "      <th>6</th>\n",
       "      <td>Immune System</td>\n",
       "      <td>12229</td>\n",
       "      <td>3.460845</td>\n",
       "    </tr>\n",
       "    <tr>\n",
       "      <th>7</th>\n",
       "      <td>Injury</td>\n",
       "      <td>19490</td>\n",
       "      <td>5.515731</td>\n",
       "    </tr>\n",
       "    <tr>\n",
       "      <th>8</th>\n",
       "      <td>MentalHealth</td>\n",
       "      <td>100155</td>\n",
       "      <td>28.344177</td>\n",
       "    </tr>\n",
       "    <tr>\n",
       "      <th>9</th>\n",
       "      <td>Neurological</td>\n",
       "      <td>56347</td>\n",
       "      <td>15.946377</td>\n",
       "    </tr>\n",
       "    <tr>\n",
       "      <th>10</th>\n",
       "      <td>Other</td>\n",
       "      <td>44111</td>\n",
       "      <td>12.483550</td>\n",
       "    </tr>\n",
       "    <tr>\n",
       "      <th>11</th>\n",
       "      <td>Pain</td>\n",
       "      <td>38335</td>\n",
       "      <td>10.848924</td>\n",
       "    </tr>\n",
       "    <tr>\n",
       "      <th>12</th>\n",
       "      <td>Poisoning</td>\n",
       "      <td>8345</td>\n",
       "      <td>2.361661</td>\n",
       "    </tr>\n",
       "    <tr>\n",
       "      <th>13</th>\n",
       "      <td>PregnancyInUtero</td>\n",
       "      <td>4760</td>\n",
       "      <td>1.347095</td>\n",
       "    </tr>\n",
       "    <tr>\n",
       "      <th>14</th>\n",
       "      <td>Respiratory</td>\n",
       "      <td>16616</td>\n",
       "      <td>4.702380</td>\n",
       "    </tr>\n",
       "    <tr>\n",
       "      <th>15</th>\n",
       "      <td>Stress</td>\n",
       "      <td>13372</td>\n",
       "      <td>3.784318</td>\n",
       "    </tr>\n",
       "    <tr>\n",
       "      <th>16</th>\n",
       "      <td>Weight</td>\n",
       "      <td>5888</td>\n",
       "      <td>1.666322</td>\n",
       "    </tr>\n",
       "  </tbody>\n",
       "</table>\n",
       "</div>"
      ],
      "text/plain": [
       "          Categories  Tweet Count  Percentage\n",
       "0             Cancer        13834    3.915065\n",
       "1     Cardiovascular         1810    0.512236\n",
       "2          Cognitive         8807    2.492408\n",
       "3              Death        31590    8.940068\n",
       "4     Dermatological         1557    0.440636\n",
       "5   Gastrointestinal        10434    2.952855\n",
       "6      Immune System        12229    3.460845\n",
       "7             Injury        19490    5.515731\n",
       "8       MentalHealth       100155   28.344177\n",
       "9       Neurological        56347   15.946377\n",
       "10             Other        44111   12.483550\n",
       "11              Pain        38335   10.848924\n",
       "12         Poisoning         8345    2.361661\n",
       "13  PregnancyInUtero         4760    1.347095\n",
       "14       Respiratory        16616    4.702380\n",
       "15            Stress        13372    3.784318\n",
       "16            Weight         5888    1.666322"
      ]
     },
     "execution_count": 76,
     "metadata": {
      "tags": []
     },
     "output_type": "execute_result"
    }
   ],
   "source": [
    "non_bot_result"
   ]
  },
  {
   "cell_type": "code",
   "execution_count": 73,
   "metadata": {
    "colab": {
     "base_uri": "https://localhost:8080/",
     "height": 35
    },
    "id": "24pXIz-_SYWT",
    "outputId": "5145c204-f977-4c20-c313-f2149fd18859"
   },
   "outputs": [
    {
     "name": "stderr",
     "output_type": "stream",
     "text": [
      "100%|██████████| 53487/53487 [00:25<00:00, 2069.44it/s]\n"
     ]
    }
   ],
   "source": [
    "bot_result = calc_categories_count(bot_df)"
   ]
  },
  {
   "cell_type": "code",
   "execution_count": 74,
   "metadata": {
    "colab": {
     "base_uri": "https://localhost:8080/",
     "height": 582
    },
    "id": "nCyliyNpSnZN",
    "outputId": "e0dab9db-f9c9-4a14-c3ad-5c070dd48a46"
   },
   "outputs": [
    {
     "data": {
      "text/html": [
       "<div>\n",
       "<style scoped>\n",
       "    .dataframe tbody tr th:only-of-type {\n",
       "        vertical-align: middle;\n",
       "    }\n",
       "\n",
       "    .dataframe tbody tr th {\n",
       "        vertical-align: top;\n",
       "    }\n",
       "\n",
       "    .dataframe thead th {\n",
       "        text-align: right;\n",
       "    }\n",
       "</style>\n",
       "<table border=\"1\" class=\"dataframe\">\n",
       "  <thead>\n",
       "    <tr style=\"text-align: right;\">\n",
       "      <th></th>\n",
       "      <th>Categories</th>\n",
       "      <th>Tweet Count</th>\n",
       "      <th>Percentage</th>\n",
       "    </tr>\n",
       "  </thead>\n",
       "  <tbody>\n",
       "    <tr>\n",
       "      <th>0</th>\n",
       "      <td>Cancer</td>\n",
       "      <td>3438</td>\n",
       "      <td>6.427730</td>\n",
       "    </tr>\n",
       "    <tr>\n",
       "      <th>1</th>\n",
       "      <td>Cardiovascular</td>\n",
       "      <td>380</td>\n",
       "      <td>0.710453</td>\n",
       "    </tr>\n",
       "    <tr>\n",
       "      <th>2</th>\n",
       "      <td>Cognitive</td>\n",
       "      <td>1138</td>\n",
       "      <td>2.127620</td>\n",
       "    </tr>\n",
       "    <tr>\n",
       "      <th>3</th>\n",
       "      <td>Death</td>\n",
       "      <td>3766</td>\n",
       "      <td>7.040963</td>\n",
       "    </tr>\n",
       "    <tr>\n",
       "      <th>4</th>\n",
       "      <td>Dermatological</td>\n",
       "      <td>493</td>\n",
       "      <td>0.921719</td>\n",
       "    </tr>\n",
       "    <tr>\n",
       "      <th>5</th>\n",
       "      <td>Gastrointestinal</td>\n",
       "      <td>951</td>\n",
       "      <td>1.778002</td>\n",
       "    </tr>\n",
       "    <tr>\n",
       "      <th>6</th>\n",
       "      <td>Immune System</td>\n",
       "      <td>1933</td>\n",
       "      <td>3.613962</td>\n",
       "    </tr>\n",
       "    <tr>\n",
       "      <th>7</th>\n",
       "      <td>Injury</td>\n",
       "      <td>1903</td>\n",
       "      <td>3.557874</td>\n",
       "    </tr>\n",
       "    <tr>\n",
       "      <th>8</th>\n",
       "      <td>MentalHealth</td>\n",
       "      <td>13087</td>\n",
       "      <td>24.467628</td>\n",
       "    </tr>\n",
       "    <tr>\n",
       "      <th>9</th>\n",
       "      <td>Neurological</td>\n",
       "      <td>6141</td>\n",
       "      <td>11.481295</td>\n",
       "    </tr>\n",
       "    <tr>\n",
       "      <th>10</th>\n",
       "      <td>Other</td>\n",
       "      <td>9005</td>\n",
       "      <td>16.835867</td>\n",
       "    </tr>\n",
       "    <tr>\n",
       "      <th>11</th>\n",
       "      <td>Pain</td>\n",
       "      <td>9213</td>\n",
       "      <td>17.224746</td>\n",
       "    </tr>\n",
       "    <tr>\n",
       "      <th>12</th>\n",
       "      <td>Poisoning</td>\n",
       "      <td>950</td>\n",
       "      <td>1.776133</td>\n",
       "    </tr>\n",
       "    <tr>\n",
       "      <th>13</th>\n",
       "      <td>PregnancyInUtero</td>\n",
       "      <td>1235</td>\n",
       "      <td>2.308972</td>\n",
       "    </tr>\n",
       "    <tr>\n",
       "      <th>14</th>\n",
       "      <td>Respiratory</td>\n",
       "      <td>1051</td>\n",
       "      <td>1.964963</td>\n",
       "    </tr>\n",
       "    <tr>\n",
       "      <th>15</th>\n",
       "      <td>Stress</td>\n",
       "      <td>4213</td>\n",
       "      <td>7.876680</td>\n",
       "    </tr>\n",
       "    <tr>\n",
       "      <th>16</th>\n",
       "      <td>Weight</td>\n",
       "      <td>1305</td>\n",
       "      <td>2.439845</td>\n",
       "    </tr>\n",
       "  </tbody>\n",
       "</table>\n",
       "</div>"
      ],
      "text/plain": [
       "          Categories  Tweet Count  Percentage\n",
       "0             Cancer         3438    6.427730\n",
       "1     Cardiovascular          380    0.710453\n",
       "2          Cognitive         1138    2.127620\n",
       "3              Death         3766    7.040963\n",
       "4     Dermatological          493    0.921719\n",
       "5   Gastrointestinal          951    1.778002\n",
       "6      Immune System         1933    3.613962\n",
       "7             Injury         1903    3.557874\n",
       "8       MentalHealth        13087   24.467628\n",
       "9       Neurological         6141   11.481295\n",
       "10             Other         9005   16.835867\n",
       "11              Pain         9213   17.224746\n",
       "12         Poisoning          950    1.776133\n",
       "13  PregnancyInUtero         1235    2.308972\n",
       "14       Respiratory         1051    1.964963\n",
       "15            Stress         4213    7.876680\n",
       "16            Weight         1305    2.439845"
      ]
     },
     "execution_count": 74,
     "metadata": {
      "tags": []
     },
     "output_type": "execute_result"
    }
   ],
   "source": [
    "bot_result"
   ]
  }
 ],
 "metadata": {
  "colab": {
   "collapsed_sections": [],
   "name": "analysis.ipynb",
   "provenance": []
  },
  "kernelspec": {
   "display_name": "Python 3",
   "language": "python",
   "name": "python3"
  },
  "language_info": {
   "codemirror_mode": {
    "name": "ipython",
    "version": 3
   },
   "file_extension": ".py",
   "mimetype": "text/x-python",
   "name": "python",
   "nbconvert_exporter": "python",
   "pygments_lexer": "ipython3",
   "version": "3.7.3"
  }
 },
 "nbformat": 4,
 "nbformat_minor": 1
}
